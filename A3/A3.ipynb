{
 "cells": [
  {
   "cell_type": "markdown",
   "metadata": {},
   "source": [
    "# A3\n",
    "## Part 1 - Minimize energy spread in DFT of sinusoids"
   ]
  },
  {
   "cell_type": "code",
   "execution_count": 40,
   "metadata": {
    "collapsed": true
   },
   "outputs": [],
   "source": [
    "from scipy.fftpack import fft, fftshift\n",
    "import numpy as np\n",
    "from fractions import gcd\n",
    "import sys\n",
    "sys.path.append('../../software/models/')\n",
    "from dftModel import dftAnal, dftSynth\n",
    "from scipy.signal import get_window\n",
    "import matplotlib.pyplot as plt\n",
    "import math"
   ]
  },
  {
   "cell_type": "markdown",
   "metadata": {},
   "source": [
    "Given a signal consisting of two sinusoids, write a function that selects the first `M` samples from the signal and returns the positive half of the DFT magnitude spectrum (in dB), such that it has only two non-zero values. \n",
    "\n",
    "`M` is to be calculated as the smallest positive integer for which the positive half of the DFT magnitude spectrum has only two non-zero values. To get the positive half of the spectrum, first compute the `M` point DFT of the input signal (for this you can use the `fft` function of `scipy.fftpack`, which is already imported in this script). Consider only the first `(M/2)+1` samples of the DFT and compute the magnitude spectrum of the positive half (in dB) as `mX = 20*log10(abs(X[:M/2+1]))`, where `X` is the DFT of the input.\n",
    "\n",
    "The input arguments to this function are the input signal `x` (of length `W >= M`) consisting of two sinusoids of frequency `f1` and `f2`, the sampling frequency `fs` and the value of frequencies `f1` and `f2`. The function should return the positive half of the magnitude spectrum `mX`. For this question, you can assume the input frequencies `f1` and `f2` to be positive integers and factors of `fs`, and that `M` is even. \n",
    "\n",
    "Due to the precision of the FFT computation, the zero values of the DFT are not zero but very small values < 1e-12 (or -240 dB) in magnitude. For practical purposes, all values with absolute value less than 1e-6 (or -120 dB) can be considered to be zero. \n",
    "\n",
    "HINT: The DFT magnitude spectrum of a sinusoid has only one non-zero value (in the positive half of the DFT spectrum) when its frequency coincides with one of the DFT bin frequencies. This happens when the DFT size (`M` in this question) contains exactly an integer number of periods of the sinusoid. Since the signal in this question consists of two sinusoids, this condition should hold true for each of the sinusoids, so that the DFT magnitude spectrum has only two non-zero values, one per sinusoid. \n",
    "\n",
    "`M` can be computed as the Least Common Multiple (LCM) of the sinusoid periods (in samples). The LCM of two numbers `x`, `y` can be computed as: `x*y/GCD(x,y)`, where GCD denotes the greatest common divisor. In this script (see above) we have already imported `fractions.gcd()` function that computes the GCD. "
   ]
  },
  {
   "cell_type": "code",
   "execution_count": 31,
   "metadata": {
    "collapsed": true
   },
   "outputs": [],
   "source": [
    "def minimizeEnergySpreadDFT(x, fs, f1, f2):\n",
    "    \"\"\"\n",
    "    Inputs:\n",
    "        x (numpy array) = input signal \n",
    "        fs (float) = sampling frequency in Hz\n",
    "        f1 (float) = frequency of the first sinusoid component in Hz\n",
    "        f2 (float) = frequency of the second sinusoid component in Hz\n",
    "    Output:\n",
    "        The function should return \n",
    "        mX (numpy array) = The positive half of the DFT spectrum (in dB) of the M sample segment of x. \n",
    "                           mX is (M/2)+1 samples long (M is to be computed)\n",
    "    \"\"\"\n",
    "    gcf = gcd(f1, f2)\n",
    "    M = (fs//gcf)\n",
    "\n",
    "    x1 = x[:M]\n",
    "\n",
    "    X = fft(x1)\n",
    "\n",
    "    mX = 20 * np.log10(abs(X))\n",
    "\n",
    "    return mX[:M//2+1]\n",
    "    \n"
   ]
  },
  {
   "cell_type": "markdown",
   "metadata": {},
   "source": [
    "Test case 1: For an input signal `x` sampled at `fs = 10000` Hz that consists of sinusoids of frequency `f1 = 80` Hz and `f2 = 200` Hz, you need to select `M = 250` samples of the signal to meet the required condition. In this case, output `mX` is 126 samples in length and has non-zero values at bin indices 2 and 5 (corresponding to the frequency values of 80 and 200 Hz, respectively). You can create a test signal `x` by generating and adding two sinusoids of the given frequencies.\n",
    "\n",
    "Test case 2: For an input signal `x` sampled at `fs = 48000` Hz that consists of sinusoids of frequency `f1 = 300` Hz and `f2 = 800` Hz, you need to select `M = 480` samples of the signal to meet the required condition. In this case, output `mX` is 241 samples in length and has non-zero values at bin indices 3 and 8 (corresponding to the frequency values of 300 and 800 Hz, respectively). You can create a test signal `x` by generating and adding two sinusoids of the given frequencies."
   ]
  },
  {
   "cell_type": "code",
   "execution_count": 39,
   "metadata": {},
   "outputs": [
    {
     "name": "stdout",
     "output_type": "stream",
     "text": [
      "126\n"
     ]
    },
    {
     "name": "stderr",
     "output_type": "stream",
     "text": [
      "/home/jeovach/anaconda3-5.0/lib/python3.6/site-packages/ipykernel_launcher.py:13: DeprecationWarning: fractions.gcd() is deprecated. Use math.gcd() instead.\n",
      "  del sys.path[0]\n"
     ]
    }
   ],
   "source": [
    "t = np.arange(-1, 1, 1/10000)\n",
    "x = 0.8 * (np.cos(2 * np.pi * 80 * t) + np.cos(2 * np.pi * 200 *t))\n",
    "print(len(minimizeEnergySpreadDFT(x, 10000, 80,200)))"
   ]
  },
  {
   "cell_type": "markdown",
   "metadata": {},
   "source": [
    "## Part 2 - Optimal zero-padding"
   ]
  },
  {
   "cell_type": "markdown",
   "metadata": {},
   "source": [
    "Given a sinusoid, write a function that computes the DFT of the sinusoid after zero-padding and returns the positive half of the magnitude spectrum (in dB). Zero-padding needs to be done such that one of the bin frequencies of the DFT coincides with the frequency of the sinusoid. Choose the minimum zero-padding length for which this condition is satisfied. \n",
    "\n",
    "The input arguments are the sinusoid `x` of length `M`, sampling frequency `fs` and the frequency of the sinusoid `f`. The output is the positive half of the magnitude spectrum `mX` computed using the `N` point DFT `(N >= M)` of `x` after zero-padding `x` to length `N` appropriately as required. \n",
    "\n",
    "To get the positive half of the spectrum, first compute the `N` point DFT of the zero-padded input signal (for this you can use the `fft` function of `scipy.fftpack`, which is already imported in this script). Consider only the first `(N/2)+1` samples of the DFT and compute the magnitude spectrum of the positive half (in dB) as `mX = 20*log10(abs(X[:(N/2)+1]))`, where `X` is the `N` point DFT of the zero-padded input.\n",
    "\n",
    "For this exercise, you can assume that the frequency of the sinusoid `f` is a positive integer and a factor of the sampling rate `fs`. The input parameters will be given in such a way that `N` will be even.  Note that the numerical value of `f` is an integer but the data type is float, for example 1.0, 2.0, 55.0 etc. This is to avoid issues in python related with division by a integer.\n",
    "\n",
    "Due to the precision of the FFT computation, the zero values of the DFT are not zero but very small values < 1e-12 (or -240 dB) in magnitude. For practical purposes, all values with absolute value less than 1e-6 (or -120 dB) can be considered to be zero. \n",
    "\n",
    "HINT: One of the DFT bin frequencies coincides with the frequency `f` of a sinusoid when the DFT size (`N` in this question) contains exactly an integer number of periods of the sinusoid. For example, if `f = 100` Hz and `fs = 1000` Hz, one period of the sinusoid has 10 samples. Then given a signal of length `M = 25` samples, there are 2.5 periods in it. The minimum zero-padding length here would be 5 samples (0.5 period), so that the DFT size `N = 30` corresponds to 3 periods of a sinusoid of frequency `f=100` Hz."
   ]
  },
  {
   "cell_type": "code",
   "execution_count": 59,
   "metadata": {
    "collapsed": true
   },
   "outputs": [],
   "source": [
    "def optimalZeropad(x, fs, f):\n",
    "    \"\"\"\n",
    "    Inputs:\n",
    "        x (numpy array) = input signal of length M\n",
    "        fs (float) = sampling frequency in Hz\n",
    "        f (float) = frequency of the sinusoid in Hz\n",
    "    Output:\n",
    "        The function should return\n",
    "        mX (numpy array) = The positive half of the DFT spectrum of the N point DFT after zero-padding \n",
    "                        x appropriately (zero-padding length to be computed). mX is (N/2)+1 samples long\n",
    "    \"\"\"\n",
    "    ## Your code here\n",
    "    W = len(x)\n",
    "\n",
    "    #numsample = int((1.0 / f) * fs)\n",
    "    numsample = int((1.0 / gcd(f, fs)) * fs)\n",
    "\n",
    "    if W != numsample:\n",
    "        if W < numsample:\n",
    "            sample_needed = numsample - W\n",
    "            #M = 2 * numsample\n",
    "        else :\n",
    "            if W % numsample == 0:\n",
    "                sample_needed = 0\n",
    "            else:\n",
    "                sample_needed = numsample - (W % numsample)\n",
    "            \n",
    "\n",
    "    M = W + sample_needed\n",
    "    \n",
    "    hM1 = int(math.floor((W+1)/2))\n",
    "    hM2 = int(math.floor(W/2))\n",
    "\n",
    "    fftbuffer = np.zeros(M)\n",
    "    fftbuffer[:hM1] = x[hM2:]\n",
    "    fftbuffer[M-hM2:] = x[:hM2]\n",
    "\n",
    "    X = fft(fftbuffer)\n",
    "    mX = 20 * np.log10(abs(X))\n",
    "    return mX[:M//2 + 1]"
   ]
  },
  {
   "cell_type": "markdown",
   "metadata": {},
   "source": [
    "Test case 1: For a sinusoid `x` with `f = 100` Hz, `M = 25` samples and `fs = 1000` Hz, you will need to zero-pad by 5 samples and compute an `N = 30` point DFT. In the magnitude spectrum, you can see a maximum value at bin index 3 corresponding to the frequency of `100` Hz. The output `mX` you return is 16 samples in length. \n",
    "\n",
    "Test case 2: For a sinusoid `x` with `f = 250` Hz, `M = 210` samples and `fs = 10000` Hz, you will need to zero-pad by 30 samples and compute an `N = 240` point DFT. In the magnitude spectrum, you can see a maximum value at bin index 6 corresponding to the frequency of 250 Hz. The output `mX` you return is 121 samples in length. "
   ]
  },
  {
   "cell_type": "code",
   "execution_count": 60,
   "metadata": {},
   "outputs": [
    {
     "name": "stdout",
     "output_type": "stream",
     "text": [
      "16\n"
     ]
    },
    {
     "name": "stderr",
     "output_type": "stream",
     "text": [
      "/home/jeovach/anaconda3-5.0/lib/python3.6/site-packages/ipykernel_launcher.py:16: DeprecationWarning: fractions.gcd() is deprecated. Use math.gcd() instead.\n",
      "  app.launch_new_instance()\n"
     ]
    }
   ],
   "source": [
    "t = np.arange(-1, 1, 1 / 1000)[:25]\n",
    "x = 0.8*(np.cos(2*np.pi*100*t))\n",
    "print(len(optimalZeropad(x, 1000, 100)))"
   ]
  },
  {
   "cell_type": "markdown",
   "metadata": {},
   "source": [
    "## Part 3 - Symmetry properties of the DFT"
   ]
  },
  {
   "cell_type": "markdown",
   "metadata": {},
   "source": [
    "Write a function to check if the input signal is real and even using the symmetry properties of its DFT. The function will return the result of this test, the zerophase windowed version of the input signal (`dftbuffer`), and the DFT of the `dftbuffer`. \n",
    "\n",
    "Given an input signal `x` of length `M`, do a zero phase windowing of `x` without any zero-padding (a `dftbuffer`, on the same lines as the `fftbuffer` in `sms-tools`). Then compute the `M` point DFT of the zero phase windowed signal and use the symmetry of the computed DFT to test if the input signal `x` is real and even. Return the result of the test, the `dftbuffer` computed, and the DFT of the `dftbuffer`. \n",
    "\n",
    "The input argument is a signal `x` of length `M`. The output is a tuple with three elements \n",
    "`(isRealEven, dftbuffer, X)`, where `isRealEven` is a boolean variable which is `True` if `x` is real and even, else `False`. `dftbuffer` is the `M` length zero phase windowed version of `x`. `X` is the `M` point DFT of the `dftbuffer`. \n",
    "\n",
    "To make the problem easier, we will use odd length input sequence in this question (`M` is odd). \n",
    "\n",
    "Due to the precision of the FFT computation, the zero values of the DFT are not zero but very small values < 1e-12 in magnitude. For practical purposes, all values with absolute value less than 1e-6 can be considered to be zero. Use an error tolerance of 1e-6 to compare if two floating point arrays are equal. \n",
    "\n",
    "Caveat: Use the imaginary part of the spectrum instead of the phase to check if the input signal is real and even."
   ]
  },
  {
   "cell_type": "code",
   "execution_count": 64,
   "metadata": {
    "collapsed": true
   },
   "outputs": [],
   "source": [
    "def testRealEven(x):\n",
    "    \"\"\"\n",
    "    Inputs:\n",
    "        x (numpy array)= input signal of length M (M is odd)\n",
    "    Output:\n",
    "        The function should return a tuple (isRealEven, dftbuffer, X)\n",
    "        isRealEven (boolean) = True if the input x is real and even, and False otherwise\n",
    "        dftbuffer (numpy array, possibly complex) = The M point zero phase windowed version of x \n",
    "        X (numpy array, possibly complex) = The M point DFT of dftbuffer \n",
    "    \"\"\"\n",
    "    M = len(x)\n",
    "\n",
    "    fftbuffer = np.zeros(M)\n",
    "    fftbuffer[:M//2+1] = x[M//2:]\n",
    "    fftbuffer[M//2+1:] = x[:M//2]\n",
    "\n",
    "    X = fft(fftbuffer)\n",
    "    mX = abs(X)\n",
    "    pX = np.angle(X)\n",
    "\n",
    "    isReal = True\n",
    "\n",
    "    for i in range(len(X)):\n",
    "        if i > 0 and i <= len(X)/2:\n",
    "            if mX[i] != mX[len(X)-i]:\n",
    "                isReal = False\n",
    "                break\n",
    "        if abs(X.imag[i]) >= 1e-6 and abs(X.imag[i]) >= np.pi * 10**-6:\n",
    "            isReal = False\n",
    "            break\n",
    "    \n",
    "    return (isReal, fftbuffer, X)\n"
   ]
  },
  {
   "cell_type": "markdown",
   "metadata": {},
   "source": [
    "Test case 1: If `x = np.array([ 2, 3, 4, 3, 2 ])`, which is a real and even signal (after zero phase windowing), the function returns \n",
    "\n",
    "```\n",
    "(True, array([ 4., 3., 2., 2., 3.]), array([14.0000+0.j, 2.6180+0.j, \n",
    "0.3820+0.j, 0.3820+0.j, 2.6180+0.j])) (values are approximate)\n",
    "```\n",
    "\n",
    "Test case 2: If `x = np.array([1, 2, 3, 4, 1, 2, 3])`, which is not a even signal (after zero phase windowing), the function returns \n",
    "\n",
    "```\n",
    "(False,  array([ 4.,  1.,  2.,  3.,  1.,  2.,  3.]), array([ 16.+0.j, \n",
    "2.+0.69j, 2.+3.51j, 2.-1.08j, 2.+1.08j, 2.-3.51j, 2.-0.69j])) (values are approximate)\n",
    "```\n"
   ]
  },
  {
   "cell_type": "code",
   "execution_count": 65,
   "metadata": {},
   "outputs": [
    {
     "data": {
      "text/plain": [
       "(True,\n",
       " array([ 4.,  3.,  2.,  2.,  3.]),\n",
       " array([ 14.00000000+0.j,   2.61803399+0.j,   0.38196601+0.j,\n",
       "          0.38196601-0.j,   2.61803399-0.j]))"
      ]
     },
     "execution_count": 65,
     "metadata": {},
     "output_type": "execute_result"
    }
   ],
   "source": [
    "testRealEven(np.array([ 2, 3, 4, 3, 2 ]))"
   ]
  },
  {
   "cell_type": "markdown",
   "metadata": {},
   "source": [
    "## Part 4 - Suppressing frequency components using DFT model"
   ]
  },
  {
   "cell_type": "markdown",
   "metadata": {},
   "source": [
    "Given a frame of the signal, write a function that uses the `dftModel` functions to suppress all the \n",
    "frequency components <= 70Hz in the signal and returns the output of the `dftModel` with and without filtering. \n",
    "\n",
    "You will use the DFT model to implement a very basic form of filtering to suppress frequency components. \n",
    "When working close to mains power lines, there is a 50/60 Hz hum that can get introduced into the \n",
    "audio signal. You will try to remove that using a basic DFT model based filter. You will work on just \n",
    "one frame of a synthetic audio signal to see the effect of filtering. \n",
    "\n",
    "You can use the functions `dftAnal` and `dftSynth` provided by the `dftModel` file of `sms-tools`. Use `dftAnal` \n",
    "to obtain the magnitude spectrum (in dB) and phase spectrum of the audio signal. Set the values of \n",
    "the magnitude spectrum that correspond to frequencies <= 70 Hz to -120dB (there may not be a bin \n",
    "corresponding exactly to 70 Hz, choose the nearest bin of equal or higher frequency, e.g., using `np.ceil()`).\n",
    "If you have doubts converting from frequency (Hz) to bins, you can review the beginning of theory lecture 2T1.\n",
    "\n",
    "Use `dftSynth` to synthesize the filtered output signal and return the output. The function should also return the \n",
    "output of `dftSynth` without any filtering (without altering the magnitude spectrum in any way). \n",
    "You will use a hamming window to smooth the signal. Hence, do not forget to scale the output signals \n",
    "by the sum of the window values (as done in `sms-tools/software/models_interface/dftModel_function.py`). \n",
    "To understand the effect of filtering, you can plot both the filtered output and non-filtered output \n",
    "of the `dftModel`. \n",
    "\n",
    "Please note that this question is just for illustrative purposes and filtering is not usually done \n",
    "this way - such sharp cutoffs introduce artifacts in the output. \n",
    "\n",
    "The input is a `M` length input signal `x` that contains undesired frequencies below 70 Hz, sampling \n",
    "frequency `fs` and the FFT size `N`. The output is a tuple with two elements `(y, yfilt)`, where `y` is the \n",
    "output of `dftModel` with the unaltered original signal and `yfilt` is the filtered output of the `dftModel`.\n",
    "\n",
    "Caveat: In python (as well as numpy) variable assignment is by reference. if you assign B = A, and \n",
    "modify B, the value of A also gets modified. If you do not want this to happen, consider using B = A.copy(). \n",
    "This creates a copy of A and assigns it to B, and hence, you can modify B without affecting A."
   ]
  },
  {
   "cell_type": "code",
   "execution_count": 66,
   "metadata": {
    "collapsed": true
   },
   "outputs": [],
   "source": [
    "def suppressFreqDFTmodel(x, fs, N):\n",
    "    \"\"\"\n",
    "    Inputs:\n",
    "        x (numpy array) = input signal of length M (odd)\n",
    "        fs (float) = sampling frequency (Hz)\n",
    "        N (positive integer) = FFT size\n",
    "    Outputs:\n",
    "        The function should return a tuple (y, yfilt)\n",
    "        y (numpy array) = Output of the dftSynth() without filtering (M samples long)\n",
    "        yfilt (numpy array) = Output of the dftSynth() with filtering (M samples long)\n",
    "    The first few lines of the code have been written for you, do not modify it. \n",
    "    \"\"\"\n",
    "    M = len(x)\n",
    "    bin70 = int(np.ceil(70.0*N/fs))\n",
    "    w = get_window(\"hamming\", M)\n",
    "    mX, pX = dftAnal(x, w, N)    \n",
    "    mX2 = mX.copy()\n",
    "    mX2[:bin70 + 1] = -120\n",
    "    y = dftSynth(mX, pX, M) * sum(w)\n",
    "    yfilt = dftSynth(mX2, pX, M) * sum(w)\n",
    "    \n",
    "    return (y, yfilt)\n",
    "    "
   ]
  },
  {
   "cell_type": "markdown",
   "metadata": {},
   "source": [
    "Test case 1: For an input signal with 40 Hz, 100 Hz, 200 Hz, 1000 Hz components, `yfilt` will only contain\n",
    "100 Hz, 200 Hz and 1000 Hz components. \n",
    "\n",
    "Test case 2: For an input signal with 23 Hz, 36 Hz, 230 Hz, 900 Hz, 2300 Hz components, `yfilt` will only contain\n",
    "230 Hz, 900 Hz and 2300 Hz components. "
   ]
  },
  {
   "cell_type": "code",
   "execution_count": 67,
   "metadata": {},
   "outputs": [
    {
     "data": {
      "image/png": "[encoded data removed]",
      "text/plain": [
       "<matplotlib.figure.Figure at 0x7ff19460db70>"
      ]
     },
     "metadata": {},
     "output_type": "display_data"
    },
    {
     "data": {
      "image/png": "[encoded data removed]",
      "text/plain": [
       "<matplotlib.figure.Figure at 0x7ff166c38518>"
      ]
     },
     "metadata": {},
     "output_type": "display_data"
    }
   ],
   "source": [
    "A = 1.\n",
    "f0 = 1000\n",
    "phi = np.pi/2\n",
    "fs = 10000\n",
    "N = 1024\n",
    "ty = (N * (1.0/fs)) / 2\n",
    "t = np.arange(-ty, ty, 1.0/fs)\n",
    "x1 = A * np.cos(2 * np.pi * 40 * t +phi)\n",
    "x2 = A * np.cos(2 * np.pi * 70 * t +phi)\n",
    "x3 = A * np.cos(2 * np.pi * 100 * t +phi)\n",
    "x = x1 + x2 + x3\n",
    "plt.plot(x)\n",
    "plt.show()\n",
    "(y, yfilt) = suppressFreqDFTmodel(x, fs, 1024)\n",
    "plt.plot(y)\n",
    "plt.plot(yfilt)\n",
    "plt.show()"
   ]
  },
  {
   "cell_type": "markdown",
   "metadata": {},
   "source": [
    "## Part 5 - FFT size and zero-padding (Optional)"
   ]
  },
  {
   "cell_type": "markdown",
   "metadata": {},
   "source": [
    "Write a function that takes in an input signal, computes three different FFTs on the input and returns \n",
    "the first 80 samples of the positive half of the FFT magnitude spectrum (in dB) in each case. \n",
    "\n",
    "This part is a walk-through example to provide some insights into the effects of the length of signal \n",
    "segment, the FFT size, and zero-padding on the FFT of a sinusoid. The input to the function is `x`, which\n",
    "is 512 samples of a real sinusoid of frequency 110 Hz and the sampling frequency `fs = 1000` Hz. You will \n",
    "first extract the first 256 samples of the input signal and store it as a separate variable `xseg`. You \n",
    "will then generate two `'hamming'` windows `w1` and `w2` of size 256 and 512 samples, respectively (code given\n",
    "below). The windows are used to smooth the input signal. Use `dftAnal` to obtain the positive half of the \n",
    "FFT magnitude spectrum (in dB) for the following cases:\n",
    "\n",
    "Case-1: Input signal `xseg` (256 samples), window `w1` (256 samples), and FFT size of 256\n",
    "\n",
    "Case-2: Input signal `x` (512 samples), window `w2` (512 samples), and FFT size of 512\n",
    "\n",
    "Case-3: Input signal `xseg` (256 samples), window `w1` (256 samples), and FFT size of 512 (Implicitly does a \n",
    "        zero-padding of xseg by 256 samples)\n",
    "        \n",
    "Return the first 80 samples of the positive half of the FFT magnitude spectrum output by `dftAnal`. \n",
    "\n",
    "To understand better, plot the output of `dftAnal` for each case on a common frequency axis. Let `mX1`, `mX2`, \n",
    "`mX3` represent the outputs of `dftAnal` in each of the Cases 1, 2, and 3 respectively. You will see that \n",
    "`mX3` is the interpolated version of `mX1` (zero-padding leads to interpolation of the DFT). You will also \n",
    "observe that the 'mainlobe' of the magnitude spectrum in `mX2` will be much smaller than that in `mX1` and \n",
    "`mX3`. This shows that choosing a longer segment of signal for analysis leads to a narrower mainlobe with \n",
    "better frequency resolution and less spreading of the energy of the sinusoid. \n",
    "\n",
    "If we were to estimate the frequency of the sinusoid using its DFT, a first principles approach is to \n",
    "choose the frequency value of the bin corresponding to the maximum in the DFT magnitude spectrum. \n",
    "Some food for thought: if you were to take this approach, which of the Cases 1, 2, or 3 will give you \n",
    "a better estimate of the frequency of the sinusoid ? Comment and discuss on the forums!"
   ]
  },
  {
   "cell_type": "code",
   "execution_count": 71,
   "metadata": {
    "collapsed": true
   },
   "outputs": [],
   "source": [
    "def zpFFTsizeExpt(x, fs):\n",
    "    \"\"\"\n",
    "    Inputs:\n",
    "        x (numpy array) = input signal (2*M = 512 samples long)\n",
    "        fs (float) = sampling frequency in Hz\n",
    "    Output:\n",
    "        The function should return a tuple (mX1_80, mX2_80, mX3_80)\n",
    "        mX1_80 (numpy array): The first 80 samples of the magnitude spectrum output of dftAnal for Case-1\n",
    "        mX2_80 (numpy array): The first 80 samples of the magnitude spectrum output of dftAnal for Case-2\n",
    "        mX3_80 (numpy array): The first 80 samples of the magnitude spectrum output of dftAnal for Case-3\n",
    "        \n",
    "    The first few lines of the code to generate xseg and the windows have been written for you, \n",
    "    please use it and do not modify it. \n",
    "    \"\"\"\n",
    "    \n",
    "    M = len(x)//2\n",
    "    xseg = x[:M]\n",
    "    w1 = get_window('hamming',M)\n",
    "    w2 = get_window('hamming',2*M)\n",
    "    ## Your code here\n",
    "    mX1, pX1 = dftAnal(xseg, w1, 256)\n",
    "    mX2, pX2 = dftAnal(x, w2, 512)\n",
    "\n",
    "    mX3, pX3 = dftAnal(xseg, w1, 512)\n",
    "\n",
    "    mX1_80 = mX1[:80]\n",
    "    mX2_80 = mX2[:80]\n",
    "    mX3_80 = mX3[:80]\n",
    "\n",
    "    return (mX1_80, mX2_80, mX3_80)\n"
   ]
  },
  {
   "cell_type": "markdown",
   "metadata": {},
   "source": [
    "Test case 1: The input signal is `x` (of length 512 samples), the output is a tuple with three elements: \n",
    "`(mX1_80, mX2_80, mX3_80)` where `mX1_80`, `mX2_80`, `mX3_80` are the first 80 samples of the magnitude spectrum \n",
    "output by `dftAnal` in cases 1, 2, and 3, respectively. "
   ]
  },
  {
   "cell_type": "code",
   "execution_count": 72,
   "metadata": {},
   "outputs": [
    {
     "name": "stdout",
     "output_type": "stream",
     "text": [
      "80\n"
     ]
    },
    {
     "data": {
      "image/png": "[encoded data removed]",
      "text/plain": [
       "<matplotlib.figure.Figure at 0x7ff163877160>"
      ]
     },
     "metadata": {},
     "output_type": "display_data"
    }
   ],
   "source": [
    "A = 1.\n",
    "f0 = 110\n",
    "phi = np.pi/2\n",
    "fs = 1000\n",
    "N = 512\n",
    "ty = (N * (1.0/fs)) / 2\n",
    "t = np.arange(-ty, ty, 1.0/fs)\n",
    "x = A * np.cos(2 * np.pi * f0 * t +phi)\n",
    "(mX1_80, mX2_80, mX3_80) = zpFFTsizeExpt(x, fs)\n",
    "print(len(mX1_80))\n",
    "plt.plot(mX1_80)\n",
    "plt.plot(mX2_80)\n",
    "plt.plot(mX3_80)\n",
    "plt.show()"
   ]
  },
  {
   "cell_type": "code",
   "execution_count": null,
   "metadata": {
    "collapsed": true
   },
   "outputs": [],
   "source": []
  }
 ],
 "metadata": {
  "kernelspec": {
   "display_name": "Python 3",
   "language": "python",
   "name": "python3"
  },
  "language_info": {
   "codemirror_mode": {
    "name": "ipython",
    "version": 3
   },
   "file_extension": ".py",
   "mimetype": "text/x-python",
   "name": "python",
   "nbconvert_exporter": "python",
   "pygments_lexer": "ipython3",
   "version": "3.6.3"
  }
 },
 "nbformat": 4,
 "nbformat_minor": 2
}
